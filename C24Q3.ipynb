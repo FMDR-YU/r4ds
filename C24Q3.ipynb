{
  "nbformat": 4,
  "nbformat_minor": 0,
  "metadata": {
    "colab": {
      "name": "C24Q3.ipynb",
      "provenance": [],
      "collapsed_sections": [],
      "authorship_tag": "ABX9TyOkXg7Fj5ySWapnn22EzUFa",
      "include_colab_link": true
    },
    "kernelspec": {
      "name": "ir",
      "display_name": "R"
    },
    "language_info": {
      "name": "R"
    }
  },
  "cells": [
    {
      "cell_type": "markdown",
      "metadata": {
        "id": "view-in-github",
        "colab_type": "text"
      },
      "source": [
        "<a href=\"https://colab.research.google.com/github/FMDR-YU/r4ds/blob/main/C24Q3.ipynb\" target=\"_parent\"><img src=\"https://colab.research.google.com/assets/colab-badge.svg\" alt=\"Open In Colab\"/></a>"
      ]
    },
    {
      "cell_type": "markdown",
      "source": [
        "## Q3. Extract the diamonds that have very high and very low residuals.\n",
        "Is there anything unusual about these diamonds? Are the particularly bad or good, or do you think these are pricing errors?"
      ],
      "metadata": {
        "id": "s0QVSDqfBrcA"
      }
    },
    {
      "cell_type": "code",
      "source": [
        "library(dplyr)\n",
        "library(ggplot2)\n",
        "library(modelr)"
      ],
      "metadata": {
        "id": "C8W5vBhGB7cZ"
      },
      "execution_count": null,
      "outputs": []
    },
    {
      "cell_type": "markdown",
      "source": [
        "Comment:"
      ],
      "metadata": {
        "id": "_5LIGCglCHwN"
      }
    },
    {
      "cell_type": "code",
      "execution_count": null,
      "metadata": {
        "id": "YmYey6mbBXW0"
      },
      "outputs": [],
      "source": [
        "diamonds2 <- diamonds %>% \n",
        "  filter(carat <= 2.5) %>% \n",
        "  mutate(lprice = log2(price), lcarat = log2(carat))\n",
        "\n",
        "mod_diamond <- lm(lprice ~ lcarat, data = diamonds2)\n",
        "\n",
        "diamonds2 <- diamonds2 %>% \n",
        "  add_residuals(mod_diamond, \"lresid\")\n",
        "\n",
        "resid_quants <- quantile(diamonds2$lresid)\n",
        "\n",
        "filtered <- diamonds2 %>% \n",
        "  filter( \n",
        "    !((lresid < resid_quants[[\"25%\"]]) & (lresid > resid_quants[[\"75%\"]])) \n",
        "    )"
      ]
    },
    {
      "cell_type": "markdown",
      "source": [
        "Draw boxplot"
      ],
      "metadata": {
        "id": "XEE1AhwRCQKX"
      }
    },
    {
      "cell_type": "code",
      "source": [
        "ggplot(filtered, aes(cut, price)) + geom_boxplot()"
      ],
      "metadata": {
        "colab": {
          "base_uri": "https://localhost:8080/",
          "height": 437
        },
        "id": "Ola1hauNCE8d",
        "outputId": "e288aa05-8711-4800-895b-f8cba7cb95b5"
      },
      "execution_count": null,
      "outputs": [
        {
          "output_type": "display_data",
          "data": {
            "text/plain": [
              "plot without title"
            ],
            "image/png": "[encoded data removed]"
          },
          "metadata": {
            "image/png": {
              "width": 420,
              "height": 420
            }
          }
        }
      ]
    },
    {
      "cell_type": "code",
      "source": [
        ""
      ],
      "metadata": {
        "id": "-xzl6wHkCF5r"
      },
      "execution_count": null,
      "outputs": []
    }
  ]
}